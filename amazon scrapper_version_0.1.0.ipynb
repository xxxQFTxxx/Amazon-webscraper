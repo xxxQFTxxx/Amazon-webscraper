{
 "cells": [
  {
   "cell_type": "code",
   "execution_count": 9,
   "id": "49935cba",
   "metadata": {},
   "outputs": [],
   "source": [
    "from bs4 import BeautifulSoup\n",
    "import requests\n",
    "import re\n",
    "import pandas as pd"
   ]
  },
  {
   "cell_type": "code",
   "execution_count": 83,
   "id": "08ce5cd0",
   "metadata": {},
   "outputs": [],
   "source": [
    "URL = \"https://www.amazon.co.jp/-/en/s?k=prison&i=stripbooks&rh=n%3A466280&language=en&qid=1661782236&ref=sr_pg_1\" #k=\"Keyword\" rh=\"denotes the factors of query.\" ref=\"The method to get this url\"\n",
    "\"\"\" \n",
    "rh denotes the factors of query.\n",
    "k = keyword,\n",
    "n = category (Sports & Outdoors in this case)\n",
    "p_n_condition-type = new/used\n",
    "p_72 = 4 or more stars\n",
    "p_85 = prime eligible\n",
    "page = pagination offset(page nos).\n",
    "qid = the timestamp when the query result was generated.\n",
    "bbn = browse node numbers.Amazon uses a hierarchy of nodes with a number to the hierarchy to represent collections of items. Each number given is a browse node number.\n",
    "rnid = random id  for browsing the node.\n",
    "ie=utf8 = UTF-8 page encoding format.\n",
    "\"\"\"\n",
    "HEADERS = {\"User-Agent\": \"Mozilla/5.0 (Windows NT 10.0; Win64; x64) AppleWebKit/537.36 (KHTML, like Gecko) Chrome/104.0.0.0 Safari/537.36\",\n",
    "            \"Accept\": \"text/html,application/xhtml+xml,application/xml;q=0.9,image/avif,image/webp,image/apng,*/*;q=0.8,application/signed-exchange;v=b3;q=0.9\", \n",
    "            \"Accept-Encoding\": \"gzip, deflate, br\", \n",
    "            \"Accept-Language\": \"en-GB,en-US;q=0.9,en;q=0.8\"} #Get these from: https://httpbin.org/get"
   ]
  },
  {
   "cell_type": "markdown",
   "id": "86c7eb78",
   "metadata": {},
   "source": [
    "webpage = requests.get(URL, headers=HEADERS)"
   ]
  },
  {
   "cell_type": "markdown",
   "id": "7dff3143",
   "metadata": {
    "collapsed": true
   },
   "source": [
    "webpage.text"
   ]
  },
  {
   "cell_type": "markdown",
   "id": "3a86374d",
   "metadata": {
    "collapsed": true
   },
   "source": [
    "soup = BeautifulSoup(webpage.content, \"lxml\")\n",
    "#soup"
   ]
  },
  {
   "cell_type": "code",
   "execution_count": 84,
   "id": "523d4c39",
   "metadata": {},
   "outputs": [],
   "source": [
    "Titles = list()\n",
    "URLs = list()\n",
    "Asins = list()\n",
    "Prices = list()"
   ]
  },
  {
   "cell_type": "raw",
   "id": "cd78cfde",
   "metadata": {},
   "source": [
    "for article in soup.find_all(class_=\"s-result-item s-asin sg-col-0-of-12 sg-col-16-of-20 sg-col s-widget-spacing-small sg-col-12-of-16\"):\n",
    "    title = article.h2.text\n",
    "    url = \"https://www.amazon.co.jp\"+article.a['href'] \n",
    "    asin = re.search(r'/[dg]p/([^/]+)', url, flags=re.IGNORECASE)\n",
    "    if asin:\n",
    "        ASIN = asin.group(1)\n",
    "        print(ASIN)\n",
    "        Asins.append(ASIN)\n",
    "    #price = article.find(class_=\"a-price-whole\").text\n",
    "    print(title)\n",
    "    Titles.append(title)\n",
    "    print(url)\n",
    "    URLs.append(url)\n",
    "    #print(price)\n",
    "    #Prices.append(price)\n",
    "    "
   ]
  },
  {
   "cell_type": "code",
   "execution_count": 65,
   "id": "8c42e5e6",
   "metadata": {},
   "outputs": [],
   "source": [
    "def get_page(url):\n",
    "    webpage = requests.get(url, headers=HEADERS)\n",
    "    return BeautifulSoup(webpage.content, \"lxml\")\n",
    "    "
   ]
  },
  {
   "cell_type": "code",
   "execution_count": 66,
   "id": "baf36936",
   "metadata": {},
   "outputs": [],
   "source": [
    "def get_page_body_articles(soup):\n",
    "    return soup.find_all(class_=\"s-result-item s-asin sg-col-0-of-12 sg-col-16-of-20 sg-col s-widget-spacing-small sg-col-12-of-16\")\n",
    "    "
   ]
  },
  {
   "cell_type": "code",
   "execution_count": 68,
   "id": "5a396b70",
   "metadata": {},
   "outputs": [],
   "source": [
    "def Extract_data_from_articles(page_body_articles):\n",
    "    for article in page_body_articles:\n",
    "        title = article.h2.text\n",
    "        url_item = \"https://www.amazon.co.jp\"+article.a['href'] \n",
    "        asin = re.search(r'/[dg]p/([^/]+)', url_item, flags=re.IGNORECASE)\n",
    "        if asin:\n",
    "            ASIN = asin.group(1)\n",
    "            print(ASIN)\n",
    "            Asins.append(ASIN)\n",
    "        print(title)\n",
    "        Titles.append(title)\n",
    "        print(url_item)\n",
    "        URLs.append(url_item)\n",
    "        \n",
    "    "
   ]
  },
  {
   "cell_type": "code",
   "execution_count": 87,
   "id": "de9893a9",
   "metadata": {},
   "outputs": [],
   "source": [
    "def Getnextpage(page, page_num):\n",
    "    Num_nav_bar = page.find(class_=\"s-pagination-strip\")\n",
    "    if Num_nav_bar.find(class_=\"s-pagination-item s-pagination-next s-pagination-disabled \") is not None:\n",
    "        url_next_page = 'https://www.amazon.co.jp' + str(Num_nav_bar.find(class_ = \"s-pagination-item s-pagination-next s-pagination-button s-pagination-separator\")['href'])\n",
    "        page_num += 1 \n",
    "        print(\"There is a page \", page_num) \n",
    "        print(\"URL is: \", url_next_page)\n",
    "        return url_next_page\n",
    "    else:\n",
    "        print(\"There are no more pages.\")\n",
    "        return None"
   ]
  },
  {
   "cell_type": "code",
   "execution_count": 88,
   "id": "699ec351",
   "metadata": {},
   "outputs": [
    {
     "name": "stdout",
     "output_type": "stream",
     "text": [
      "B00ENTHE9Y\n",
      "天獄-HEAVEN'S PRISON- コミックセット (ヤングジャンプコミックス) [マーケットプレイスセット]  \n",
      "https://www.amazon.co.jp/-/en/%E3%81%86%E3%81%9F%E3%81%9F%E3%81%AD-%E3%81%B2%E3%82%8D%E3%82%86%E3%81%8D/dp/B00ENTHE9Y/ref=sr_1_97?keywords=prison&qid=1661783747&s=books&sr=1-97\n",
      "4049230011\n",
      "山岸凉子全集 (1) 日出処の天子 (1) (あすかコミックス・スペシャル)  \n",
      "https://www.amazon.co.jp/-/en/%E5%B1%B1%E5%B2%B8-%E5%87%89%E5%AD%90/dp/4049230011/ref=sr_1_98?keywords=prison&qid=1661783747&s=books&sr=1-98\n",
      "4091601111\n",
      "さそり 1 出獄票 (スーパー・ビジュアル・コミックス)  \n",
      "https://www.amazon.co.jp/-/en/%E7%AF%A0%E5%8E%9F-%E3%81%A8%E3%81%8A%E3%82%8B/dp/4091601111/ref=sr_1_99?keywords=prison&qid=1661783747&s=books&sr=1-99\n",
      "4086013479\n",
      "監獄のファラオ (シュバルツ・ヘルツ―黒い心臓―シリーズ) (コバルト文庫)  \n",
      "https://www.amazon.co.jp/-/en/%E6%A1%91%E5%8E%9F-%E6%B0%B4%E8%8F%9C/dp/4086013479/ref=sr_1_100?keywords=prison&qid=1661783747&s=books&sr=1-100\n",
      "B008CC4V0I\n",
      "恋獄の獣との愛の日々 恋獄の獣に愛されて (ガッシュ文庫)  \n",
      "https://www.amazon.co.jp/-/en/%E5%90%89%E7%94%B0-%E7%8F%A0%E5%A7%AB-ebook/dp/B008CC4V0I/ref=sr_1_101?keywords=prison&qid=1661783747&s=books&sr=1-101\n",
      "B00DSJSX4K\n",
      "恋獄の獣に愛されて (ガッシュ文庫)  \n",
      "https://www.amazon.co.jp/-/en/%E5%90%89%E7%94%B0-%E7%8F%A0%E5%A7%AB-ebook/dp/B00DSJSX4K/ref=sr_1_102?keywords=prison&qid=1661783747&s=books&sr=1-102\n",
      "4861763894\n",
      "黒鏡の獄の煌少女―Replay:ゲヘナ アナスタシス (ジャイブTRPGシリーズ)  \n",
      "https://www.amazon.co.jp/-/en/%E7%94%B0%E4%B8%AD-%E5%85%AC%E4%BE%8D/dp/4861763894/ref=sr_1_103?keywords=prison&qid=1661783747&s=books&sr=1-103\n",
      "4861765196\n",
      "逆撃の獄は宿命(さだめ)の終局(おわり)―Replay:ゲヘナ アナスタシス (integral)  \n",
      "https://www.amazon.co.jp/-/en/%E5%8F%8B%E9%87%8E-%E8%A9%B3/dp/4861765196/ref=sr_1_104?keywords=prison&qid=1661783747&s=books&sr=1-104\n",
      "4086143178\n",
      "スリピッシュ! ―東方牢城の主― (スリピッシュシリーズ) (コバルト文庫)  \n",
      "https://www.amazon.co.jp/-/en/%E4%BB%8A%E9%87%8E-%E7%B7%92%E9%9B%AA/dp/4086143178/ref=sr_1_105?keywords=prison&qid=1661783747&s=books&sr=1-105\n",
      "4125012482\n",
      "白冥の獄1下 - 武術大会の光と影 (C・NOVELSファンタジア)  \n",
      "https://www.amazon.co.jp/-/en/%E3%82%B8%E3%83%B3%E3%83%BB%E3%83%98%E3%82%A4%E3%83%AB/dp/4125012482/ref=sr_1_106?keywords=prison&qid=1661783747&s=books&sr=1-106\n",
      "4125012474\n",
      "白冥の獄1上 - 王立学院の出会い (C・NOVELSファンタジア)  \n",
      "https://www.amazon.co.jp/-/en/%E3%82%B8%E3%83%B3%E3%83%BB%E3%83%98%E3%82%A4%E3%83%AB/dp/4125012474/ref=sr_1_107?keywords=prison&qid=1661783747&s=books&sr=1-107\n",
      "B00DM1VH8S\n",
      "グルア監獄 - 蒼穹に響く銃声と終焉の月 (C★NOVELS)  \n",
      "https://www.amazon.co.jp/-/en/%E4%B9%9D%E6%9D%A1%E8%8F%9C%E6%9C%88-ebook/dp/B00DM1VH8S/ref=sr_1_108?keywords=prison&qid=1661783747&s=books&sr=1-108\n",
      "B097X76HYN\n",
      "Le Journalisme intégral  \n",
      "https://www.amazon.co.jp/-/en/dp/B097X76HYN/ref=sr_1_109?keywords=prison&qid=1661783747&s=books&sr=1-109\n",
      "3967920135\n",
      "Deepwater Prison-Adventspaket: Band 1 - 3 zum Sonderpreis: Die komplette Tiefsee-Mystery-Comicserie  \n",
      "https://www.amazon.co.jp/-/en/dp/3967920135/ref=sr_1_110?keywords=prison&qid=1661783747&s=books&sr=1-110\n",
      "B0015TZTQU\n",
      "Prison Break: Season 1  \n",
      "https://www.amazon.co.jp/-/en/Scott-Eilers/dp/B0015TZTQU/ref=sr_1_111?keywords=prison&qid=1661783747&s=books&sr=1-111\n",
      "B002NTFJAC\n",
      "Prison Break: Season 2  \n",
      "https://www.amazon.co.jp/-/en/Scott-Eilers/dp/B002NTFJAC/ref=sr_1_112?keywords=prison&qid=1661783747&s=books&sr=1-112\n",
      "There are no more pages.\n"
     ]
    }
   ],
   "source": [
    "page_num = 1\n",
    "while True:\n",
    "    soup = get_page(URL)\n",
    "    Articles=get_page_body_articles(soup)\n",
    "    Extract_data_from_articles(Articles)\n",
    "    URL = Getnextpage(soup, page_num)    \n",
    "    if URL is None:\n",
    "        break\n",
    "        \n",
    "    "
   ]
  },
  {
   "cell_type": "code",
   "execution_count": 41,
   "id": "260a5aa5",
   "metadata": {},
   "outputs": [
    {
     "data": {
      "text/plain": [
       "<span class=\"s-pagination-strip\"><span aria-disabled=\"true\" class=\"s-pagination-item s-pagination-previous s-pagination-disabled\"><svg aria-hidden=\"true\" focusable=\"false\" height=\"12\" viewbox=\"0 0 8 12\" width=\"8\" xmlns=\"http://www.w3.org/2000/svg\"><path d=\"M5.874.35a1.28 1.28 0 011.761 0 1.165 1.165 0 010 1.695L3.522 6l4.113 3.955a1.165 1.165 0 010 1.694 1.28 1.28 0 01-1.76 0L0 6 5.874.35z\"></path></svg>前へ</span><span aria-label=\"現在のページ (1ページ)\" class=\"s-pagination-item s-pagination-selected\">1</span><a aria-label=\"2ページに移動\" class=\"s-pagination-item s-pagination-button\" href=\"/s?k=Astra+Lost+in+Space&amp;page=2&amp;qid=1661779216&amp;ref=sr_pg_2\">2</a><a aria-label=\"3ページに移動\" class=\"s-pagination-item s-pagination-button\" href=\"/s?k=Astra+Lost+in+Space&amp;page=3&amp;qid=1661779216&amp;ref=sr_pg_3\">3</a><a aria-label=\"次のページ (2ページ) に移動\" class=\"s-pagination-item s-pagination-next s-pagination-button s-pagination-separator\" href=\"/s?k=Astra+Lost+in+Space&amp;page=2&amp;qid=1661779216&amp;ref=sr_pg_1\">次へ<svg aria-hidden=\"true\" focusable=\"false\" height=\"12\" viewbox=\"0 0 8 12\" width=\"8\" xmlns=\"http://www.w3.org/2000/svg\"><path d=\"M2.126.35a1.28 1.28 0 00-1.761 0 1.165 1.165 0 000 1.695L4.478 6 .365 9.955a1.165 1.165 0 000 1.694 1.28 1.28 0 001.76 0L8 6 2.126.35z\"></path></svg></a></span>"
      ]
     },
     "execution_count": 41,
     "metadata": {},
     "output_type": "execute_result"
    }
   ],
   "source": [
    "nav = soup.find(class_=\"s-pagination-strip\")\n",
    "nav"
   ]
  },
  {
   "cell_type": "code",
   "execution_count": 47,
   "id": "b6103b07",
   "metadata": {},
   "outputs": [
    {
     "data": {
      "text/plain": [
       "'/s?k=Astra+Lost+in+Space&page=2&qid=1661779216&ref=sr_pg_1'"
      ]
     },
     "execution_count": 47,
     "metadata": {},
     "output_type": "execute_result"
    }
   ],
   "source": [
    "nav.find(class_=\"s-pagination-item s-pagination-next s-pagination-button s-pagination-separator\")['href']"
   ]
  },
  {
   "cell_type": "code",
   "execution_count": 86,
   "id": "befe3994",
   "metadata": {},
   "outputs": [
    {
     "data": {
      "text/plain": [
       "<span aria-disabled=\"true\" class=\"s-pagination-item s-pagination-next s-pagination-disabled\">Next<svg aria-hidden=\"true\" focusable=\"false\" height=\"12\" viewbox=\"0 0 8 12\" width=\"8\" xmlns=\"http://www.w3.org/2000/svg\"><path d=\"M2.126.35a1.28 1.28 0 00-1.761 0 1.165 1.165 0 000 1.695L4.478 6 .365 9.955a1.165 1.165 0 000 1.694 1.28 1.28 0 001.76 0L8 6 2.126.35z\"></path></svg></span>"
      ]
     },
     "execution_count": 86,
     "metadata": {},
     "output_type": "execute_result"
    }
   ],
   "source": [
    "soup.find(class_=\"s-pagination-strip\").find(class_=\"s-pagination-item s-pagination-next s-pagination-disabled\")"
   ]
  },
  {
   "cell_type": "code",
   "execution_count": 89,
   "id": "cda3deac",
   "metadata": {},
   "outputs": [
    {
     "data": {
      "text/plain": [
       "['VISUAL PRISON comics2 (ブシロードコミックス)  ',\n",
       " 'VISUAL PRISON comics 連載版：8 (ブシロードコミックス)  ',\n",
       " 'VISUAL PRISON comics1 (ブシロードコミックス)  ',\n",
       " \"天獄 ― HEAVEN'S PRISON ― 1 (ヤングジャンプコミックスDIGITAL)  \",\n",
       " \"天獄 ― HEAVEN'S PRISON ― 2 (ヤングジャンプコミックスDIGITAL)  \",\n",
       " \"天獄 ― HEAVEN'S PRISON ― 6 (ヤングジャンプコミックスDIGITAL)  \",\n",
       " \"天獄 ― HEAVEN'S PRISON ― 12 (ヤングジャンプコミックスDIGITAL)  \",\n",
       " \"天獄 ― HEAVEN'S PRISON ― 9 (ヤングジャンプコミックスDIGITAL)  \",\n",
       " \"天獄 ― HEAVEN'S PRISON ― 11 (ヤングジャンプコミックスDIGITAL)  \",\n",
       " \"天獄 ― HEAVEN'S PRISON ― 10 (ヤングジャンプコミックスDIGITAL)  \",\n",
       " \"天獄 ― HEAVEN'S PRISON ― 8 (ヤングジャンプコミックスDIGITAL)  \",\n",
       " \"天獄 ― HEAVEN'S PRISON ― 5 (ヤングジャンプコミックスDIGITAL)  \",\n",
       " \"天獄 ― HEAVEN'S PRISON ― 4 (ヤングジャンプコミックスDIGITAL)  \",\n",
       " \"天獄 ― HEAVEN'S PRISON ― 3 (ヤングジャンプコミックスDIGITAL)  \",\n",
       " \"天獄 ― HEAVEN'S PRISON ― 7 (ヤングジャンプコミックスDIGITAL)  \",\n",
       " 'VISUAL PRISON comics 連載版：1 (ブシロードコミックス)  ',\n",
       " 'VISUAL PRISON comics 連載版：7 (ブシロードコミックス)  ',\n",
       " 'VISUAL PRISON comics 連載版：6 (ブシロードコミックス)  ',\n",
       " 'VISUAL PRISON comics 連載版：4 (ブシロードコミックス)  ',\n",
       " 'VISUAL PRISON comics 連載版：5 (ブシロードコミックス)  ',\n",
       " 'VISUAL PRISON comics 連載版：3 (ブシロードコミックス)  ',\n",
       " 'VISUAL PRISON comics 連載版：2 (ブシロードコミックス)  ',\n",
       " '監獄学園（２８） (ヤングマガジンコミックス)  ',\n",
       " '監獄学園\\u3000超合本版（４） (ヤングマガジンコミックス)  ',\n",
       " '地を這う者に翼はいらぬ【電子単行本】\\u3000２ (PRINCESS COMICS DX カチCOMI)  ',\n",
       " '刑務官が明かす刑務所の危ない話 (バンブーコミックス エッセイセレクション)  ',\n",
       " '刑務所の中  ',\n",
       " 'Deepwater Prison Intégrale  ',\n",
       " \"天獄-HEAVEN'S PRISON- コミック 全12巻完結セット (ヤングジャンプコミックス)  \",\n",
       " '監獄学園（１２） (ヤングマガジンコミックス)  ',\n",
       " 'ゴルゴ13 In prison (My First Big)  ',\n",
       " \"天獄-HEAVEN'S PRISON- コミック 1-9巻セット (ヤングジャンプコミックス)  \",\n",
       " \"天獄-HEAVEN'S PRISON- コミック 1-11巻セット (ヤングジャンプコミックス)  \",\n",
       " \"天獄(HEAVEN'S PRISON) 未完結セット(ヤングジャンプコミックスウルトラ)  \",\n",
       " \"天獄 ―HEAVEN'S PRISON― コミック 1-8巻 セット (ヤングジャンプコミックス)  \",\n",
       " '監獄学園（９） (ヤングマガジンコミックス)  ',\n",
       " '監獄学園（２７） (ヤングマガジンコミックス)  ',\n",
       " '怪盗ルパン伝アバンチュリエ【単話版】 3: 獄中のアルセーヌ・ルパン（１） (ルパン帝国再誕計画)  ',\n",
       " '怪盗ルパン伝アバンチュリエ【単話版】 4: 獄中のアルセーヌ・ルパン（２） (ルパン帝国再誕計画)  ',\n",
       " '監獄学園（２２） (ヤングマガジンコミックス)  ',\n",
       " '監獄学園（２６） (ヤングマガジンコミックス)  ',\n",
       " '監獄学園（２５） (ヤングマガジンコミックス)  ',\n",
       " '地を這う者に翼はいらぬ【電子単行本】\\u3000１ (PRINCESS COMICS DX カチCOMI)  ',\n",
       " '監獄学園（２４） (ヤングマガジンコミックス)  ',\n",
       " '監獄学園（１０） (ヤングマガジンコミックス)  ',\n",
       " '監獄学園（１１） (ヤングマガジンコミックス)  ',\n",
       " '監獄学園（２３） (ヤングマガジンコミックス)  ',\n",
       " '監獄学園（６） (ヤングマガジンコミックス)  ',\n",
       " '監獄学園（３） (ヤングマガジンコミックス)  ',\n",
       " '監獄学園（７） (ヤングマガジンコミックス)  ',\n",
       " '裁判長!ここは懲役4年でどうすか 13 (BUNCH COMICS)  ',\n",
       " '監獄学園（４） (ヤングマガジンコミックス)  ',\n",
       " '監獄学園（５） (ヤングマガジンコミックス)  ',\n",
       " '裁判長!ここは懲役4年でどうすか 10 (BUNCH COMICS)  ',\n",
       " '裁判長!ここは懲役4年でどうすか 12 (BUNCH COMICS)  ',\n",
       " '蜜獄マリッジ (ムーグコミックス T-Fシリーズ)  ',\n",
       " '天獄3巻 フィギュア付コミックス特装版 ([特装版コミック])  ',\n",
       " '監獄学園（８） (ヤングマガジンコミックス)  ',\n",
       " '監獄学園（１） (ヤングマガジンコミックス)  ',\n",
       " '監獄学園（２） (ヤングマガジンコミックス)  ',\n",
       " '金田一耕助ベスト・セレクション\\u3000４\\u3000獄門島 (あすかコミックスDX)  ',\n",
       " '世界征服 ～4コマのズヴィズダー～ (4コマKINGSぱれっとコミックス)  ',\n",
       " 'サイコろまんちか\\u3000分冊版（９）\\u3000「スタンフォード監獄実験」「アンダーマイニング効果」 (月刊少年ライバルコミックス)  ',\n",
       " '裁判長!ここは懲役4年でどうすか 11 (BUNCH COMICS)  ',\n",
       " 'お・り・が・み 獄の弓 (角川スニーカー文庫)  ',\n",
       " '裁判長！ここは懲役4年でどうすか\\u30009  ',\n",
       " '金田一少年の事件簿 獄門塾殺人事件(下) (講談社コミックス)  ',\n",
       " 'ハイスクール・オーラバスター\\u3000炎獄のディアーナ（後編） (集英社コバルト文庫)  ',\n",
       " 'ブライト・プリズン\\u3000学園の美しき生け贄 (講談社X文庫)  ',\n",
       " '金田一少年の事件簿 獄門塾殺人事件(上) (講談社コミックス)  ',\n",
       " '裁判長！ここは懲役4年でどうすか\\u30003  ',\n",
       " '裁判長！ここは懲役4年でどうすか\\u30001  ',\n",
       " 'ハンマーセッション!R 暁の刑務所特急の巻 (KCノベルス)  ',\n",
       " '古代ローマ格闘暗獄譚 SIN 2 (ビッグコミックス)  ',\n",
       " 'いじめ－静かな監獄－ (ちゃおコミックス)  ',\n",
       " '山獄の獅子王―タザリア王国物語〈5〉 (電撃文庫)  ',\n",
       " 'D&Dリプレイ2若獅子の戦賦-監獄島編 (HJ文庫G)  ',\n",
       " 'NARUTO―ナルト― 鬼燈の城 ブラッド・プリズン (ジャンプジェイブックスDIGITAL)  ',\n",
       " '裁判長！ここは懲役4年でどうすか\\u30007  ',\n",
       " '裁判長！ここは懲役4年でどうすか\\u30005  ',\n",
       " '裁判長！ここは懲役4年でどうすか\\u30004  ',\n",
       " '裁判長！ここは懲役4年でどうすか\\u30008  ',\n",
       " \"天獄-HEAVEN'S PRISON- コミック 1-10巻セット (ヤングジャンプコミックス)  \",\n",
       " '古代ローマ格闘暗獄譚 SIN (6) (ビッグコミックス)  ',\n",
       " '古代ローマ格闘暗獄譚 SIN (5) (ビッグコミックス)  ',\n",
       " '並盛通信 獄ツナ特集号 (リボ-ンアンソロジ-)  ',\n",
       " '古代ローマ格闘暗獄譚 SIN (4) (ビッグコミックス)  ',\n",
       " '古代ローマ格闘暗獄譚 SIN (3) (ビッグコミックス)  ',\n",
       " '古代ローマ格闘暗獄譚 SIN 1 (ビッグ コミックス) (ビッグコミックス)  ',\n",
       " '極東プリズン(1) (あすかコミックスDX)  ',\n",
       " '獄ツナ SweetHoney (CLAPコミックス anthology 16)  ',\n",
       " 'ムショ医 2―女子刑務所のカルテ (芳文社コミックス)  ',\n",
       " '裁判長！ここは懲役4年でどうすか\\u30006  ',\n",
       " 'かまいたちの夜2~監獄島のわらべ唄~攻略ガイドブック (講談社ゲームBOOKS)  ',\n",
       " '裁判長！ ここは懲役４年でどうすか～ぼくに死刑といえるのか～\\u3000２巻 (ゼノンコミックス)  ',\n",
       " '名探偵ドラマコミック 金田一耕助 獄門島・悪魔が来りて笛を吹く  ',\n",
       " \"天獄-HEAVEN'S PRISON- コミックセット (ヤングジャンプコミックス) [マーケットプレイスセット]  \",\n",
       " '山岸凉子全集 (1) 日出処の天子 (1) (あすかコミックス・スペシャル)  ',\n",
       " 'さそり 1 出獄票 (スーパー・ビジュアル・コミックス)  ',\n",
       " '監獄のファラオ (シュバルツ・ヘルツ―黒い心臓―シリーズ) (コバルト文庫)  ',\n",
       " '恋獄の獣との愛の日々 恋獄の獣に愛されて (ガッシュ文庫)  ',\n",
       " '恋獄の獣に愛されて (ガッシュ文庫)  ',\n",
       " '黒鏡の獄の煌少女―Replay:ゲヘナ アナスタシス (ジャイブTRPGシリーズ)  ',\n",
       " '逆撃の獄は宿命(さだめ)の終局(おわり)―Replay:ゲヘナ アナスタシス (integral)  ',\n",
       " 'スリピッシュ! ―東方牢城の主― (スリピッシュシリーズ) (コバルト文庫)  ',\n",
       " '白冥の獄1下 - 武術大会の光と影 (C・NOVELSファンタジア)  ',\n",
       " '白冥の獄1上 - 王立学院の出会い (C・NOVELSファンタジア)  ',\n",
       " 'グルア監獄 - 蒼穹に響く銃声と終焉の月 (C★NOVELS)  ',\n",
       " 'Le Journalisme intégral  ',\n",
       " 'Deepwater Prison-Adventspaket: Band 1 - 3 zum Sonderpreis: Die komplette Tiefsee-Mystery-Comicserie  ',\n",
       " 'Prison Break: Season 1  ',\n",
       " 'Prison Break: Season 2  ',\n",
       " \"天獄-HEAVEN'S PRISON- コミックセット (ヤングジャンプコミックス) [マーケットプレイスセット]  \",\n",
       " '山岸凉子全集 (1) 日出処の天子 (1) (あすかコミックス・スペシャル)  ',\n",
       " 'さそり 1 出獄票 (スーパー・ビジュアル・コミックス)  ',\n",
       " '監獄のファラオ (シュバルツ・ヘルツ―黒い心臓―シリーズ) (コバルト文庫)  ',\n",
       " '恋獄の獣との愛の日々 恋獄の獣に愛されて (ガッシュ文庫)  ',\n",
       " '恋獄の獣に愛されて (ガッシュ文庫)  ',\n",
       " '黒鏡の獄の煌少女―Replay:ゲヘナ アナスタシス (ジャイブTRPGシリーズ)  ',\n",
       " '逆撃の獄は宿命(さだめ)の終局(おわり)―Replay:ゲヘナ アナスタシス (integral)  ',\n",
       " 'スリピッシュ! ―東方牢城の主― (スリピッシュシリーズ) (コバルト文庫)  ',\n",
       " '白冥の獄1下 - 武術大会の光と影 (C・NOVELSファンタジア)  ',\n",
       " '白冥の獄1上 - 王立学院の出会い (C・NOVELSファンタジア)  ',\n",
       " 'グルア監獄 - 蒼穹に響く銃声と終焉の月 (C★NOVELS)  ',\n",
       " 'Le Journalisme intégral  ',\n",
       " 'Deepwater Prison-Adventspaket: Band 1 - 3 zum Sonderpreis: Die komplette Tiefsee-Mystery-Comicserie  ',\n",
       " 'Prison Break: Season 1  ',\n",
       " 'Prison Break: Season 2  ']"
      ]
     },
     "execution_count": 89,
     "metadata": {},
     "output_type": "execute_result"
    }
   ],
   "source": [
    "Titles"
   ]
  },
  {
   "cell_type": "code",
   "execution_count": 90,
   "id": "beb50392",
   "metadata": {},
   "outputs": [
    {
     "data": {
      "text/plain": [
       "['B00GBME38Q',\n",
       " 'B00GBME37C',\n",
       " 'B00GBME36S',\n",
       " 'B010SOFUZ2',\n",
       " 'B00I3CASUO',\n",
       " 'B00YPDHRSG',\n",
       " 'B00VJWEA0O',\n",
       " 'B00GBME3DQ',\n",
       " 'B00GBME30E',\n",
       " 'B00GBME34K',\n",
       " 'B00GBME35Y',\n",
       " 'B00GBME36I',\n",
       " 'B09QPKC2Y9',\n",
       " 'B0B74F5RXF',\n",
       " 'B0B4KLXXL9',\n",
       " 'B09Y1M9YT2',\n",
       " 'B0B24HXLNF',\n",
       " 'B09R9R4X6P',\n",
       " 'B09R9TC59F',\n",
       " 'B07BR28NZF',\n",
       " 'B07BWFB4GF',\n",
       " 'B09X5FJ4GS',\n",
       " 'B07FTHVWK7',\n",
       " 'B078H6SHR8',\n",
       " '2302069005',\n",
       " 'B0105JV6H6',\n",
       " 'B00J22TXFK',\n",
       " '409109077X',\n",
       " 'B00G9MY47S',\n",
       " 'B00Y9Z4ZVC',\n",
       " 'B00B9SYI1E',\n",
       " 'B009VYGYJW',\n",
       " 'B00EVJW2X4',\n",
       " 'B076ZG9JHT',\n",
       " 'B089F7J7D2',\n",
       " 'B089F5Z2XB',\n",
       " 'B01J130PGU',\n",
       " 'B0747HLS96',\n",
       " 'B06ZXZXF1W',\n",
       " 'B08ZRZ4QQ8',\n",
       " 'B06WVRZV3V',\n",
       " 'B00GQNYT3Y',\n",
       " 'B00H8MY9I2',\n",
       " 'B01MQ415Y7',\n",
       " 'B00BOOCZB8',\n",
       " 'B00BB1ZTF8',\n",
       " 'B00CE0U3ME',\n",
       " '4107715965',\n",
       " 'B00BOOCZ7W',\n",
       " 'B00BOOCZDG',\n",
       " '4107715469',\n",
       " '4107715833',\n",
       " '4862973744',\n",
       " '4089080584',\n",
       " 'B00DORXCRY',\n",
       " 'B00BB1ZTBM',\n",
       " 'B00BB1ZTDK',\n",
       " 'B01AN2U6BC',\n",
       " 'B00OLYFSPS',\n",
       " 'B01N6Q74E9',\n",
       " '4107715663',\n",
       " '4044266077',\n",
       " 'B01N5V4MYI',\n",
       " '4063637565',\n",
       " 'B079P1KY2V',\n",
       " 'B00DFTXVDG',\n",
       " '4063637557',\n",
       " 'B01MRBUXGG',\n",
       " 'B01N27VAW2',\n",
       " '4063733289',\n",
       " '4091831648',\n",
       " 'B00D3CG4Z2',\n",
       " '4048674307',\n",
       " '4894256614',\n",
       " 'B0794XSC8Q',\n",
       " 'B01N6WIQOR',\n",
       " 'B01N16SM3T',\n",
       " 'B01MYE18LL',\n",
       " 'B01N4TSYD9',\n",
       " 'B00USQ6KMS',\n",
       " '4091841910',\n",
       " '4091841252',\n",
       " '4862840957',\n",
       " '4091836992',\n",
       " '4091834892',\n",
       " '409183003X',\n",
       " 'B00E18NCI4',\n",
       " '4862017010',\n",
       " '4832231618',\n",
       " 'B01MZFMEUA',\n",
       " '4063396614',\n",
       " 'B018S5JPKE',\n",
       " '4048538624',\n",
       " 'B00ENTHE9Y',\n",
       " '4049230011',\n",
       " '4091601111',\n",
       " '4086013479',\n",
       " 'B008CC4V0I',\n",
       " 'B00DSJSX4K',\n",
       " '4861763894',\n",
       " '4861765196',\n",
       " '4086143178',\n",
       " '4125012482',\n",
       " '4125012474',\n",
       " 'B00DM1VH8S',\n",
       " 'B097X76HYN',\n",
       " '3967920135',\n",
       " 'B0015TZTQU',\n",
       " 'B002NTFJAC',\n",
       " 'B00ENTHE9Y',\n",
       " '4049230011',\n",
       " '4091601111',\n",
       " '4086013479',\n",
       " 'B008CC4V0I',\n",
       " 'B00DSJSX4K',\n",
       " '4861763894',\n",
       " '4861765196',\n",
       " '4086143178',\n",
       " '4125012482',\n",
       " '4125012474',\n",
       " 'B00DM1VH8S',\n",
       " 'B097X76HYN',\n",
       " '3967920135',\n",
       " 'B0015TZTQU',\n",
       " 'B002NTFJAC']"
      ]
     },
     "execution_count": 90,
     "metadata": {},
     "output_type": "execute_result"
    }
   ],
   "source": [
    "Asins"
   ]
  },
  {
   "cell_type": "code",
   "execution_count": null,
   "id": "eda2caec",
   "metadata": {},
   "outputs": [],
   "source": []
  },
  {
   "cell_type": "code",
   "execution_count": null,
   "id": "258d2c02",
   "metadata": {},
   "outputs": [],
   "source": []
  },
  {
   "cell_type": "code",
   "execution_count": null,
   "id": "bb4aebd8",
   "metadata": {},
   "outputs": [],
   "source": []
  },
  {
   "cell_type": "code",
   "execution_count": null,
   "id": "794061f1",
   "metadata": {},
   "outputs": [],
   "source": []
  },
  {
   "cell_type": "code",
   "execution_count": null,
   "id": "5fd81809",
   "metadata": {},
   "outputs": [],
   "source": []
  },
  {
   "cell_type": "code",
   "execution_count": null,
   "id": "573c5fe2",
   "metadata": {},
   "outputs": [],
   "source": []
  },
  {
   "cell_type": "code",
   "execution_count": null,
   "id": "5d3177f0",
   "metadata": {},
   "outputs": [],
   "source": []
  }
 ],
 "metadata": {
  "kernelspec": {
   "display_name": "Python 3 (ipykernel)",
   "language": "python",
   "name": "python3"
  },
  "language_info": {
   "codemirror_mode": {
    "name": "ipython",
    "version": 3
   },
   "file_extension": ".py",
   "mimetype": "text/x-python",
   "name": "python",
   "nbconvert_exporter": "python",
   "pygments_lexer": "ipython3",
   "version": "3.10.2"
  }
 },
 "nbformat": 4,
 "nbformat_minor": 5
}
